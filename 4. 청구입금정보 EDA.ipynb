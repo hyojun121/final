{
 "cells": [
  {
   "cell_type": "code",
   "execution_count": 57,
   "id": "2411e7a7-735e-4ec9-a2c3-23c161c30fe3",
   "metadata": {},
   "outputs": [],
   "source": [
    "import matplotlib.pyplot as plt\n",
    "import matplotlib.font_manager as fm\n",
    "import matplotlib as mpl\n",
    "import seaborn as sns\n",
    "import matplotlib.pyplot as plt\n",
    "# 한글 폰트 설정 - 윈도우 기본 폰트 중 'Malgun Gothic' 사용\n",
    "plt.rcParams['font.family'] = 'Malgun Gothic'\n",
    "\n",
    "# 마이너스 깨짐 방지\n",
    "mpl.rcParams['axes.unicode_minus'] = False\n"
   ]
  },
  {
   "cell_type": "code",
   "execution_count": 1,
   "id": "485bc955-db7c-4563-b8f0-6dcbbbfc3496",
   "metadata": {},
   "outputs": [
    {
     "name": "stdout",
     "output_type": "stream",
     "text": [
      "데이터 크기: (400000, 46)\n",
      "컬럼 리스트:\n",
      " ['기준년월', 'ID', '대표결제일', '대표결제방법코드', '대표청구지고객주소구분코드', '대표청구서수령지구분코드', '청구서수령방법', '청구서발송여부_B0', '청구서발송여부_R3M', '청구서발송여부_R6M', '청구금액_B0', '청구금액_R3M', '청구금액_R6M', '포인트_마일리지_건별_B0M', '포인트_마일리지_건별_R3M', '포인트_포인트_건별_B0M', '포인트_포인트_건별_R3M', '포인트_마일리지_월적립_B0M', '포인트_마일리지_월적립_R3M', '포인트_포인트_월적립_B0M', '포인트_포인트_월적립_R3M', '포인트_적립포인트_R12M', '포인트_적립포인트_R3M', '포인트_이용포인트_R12M', '포인트_이용포인트_R3M', '포인트_잔여포인트_B0M', '마일_적립포인트_R12M', '마일_적립포인트_R3M', '마일_이용포인트_R12M', '마일_이용포인트_R3M', '마일_잔여포인트_B0M', '할인건수_R3M', '할인금액_R3M', '할인건수_B0M', '할인금액_B0M', '할인금액_청구서_R3M', '할인금액_청구서_B0M', '상환개월수_결제일_R6M', '상환개월수_결제일_R3M', '선결제건수_R6M', '선결제건수_R3M', '연체건수_R6M', '연체건수_R3M', '혜택수혜금액_R3M', '포인트_마일리지_환산_B0M', '혜택수혜금액']\n"
     ]
    },
    {
     "data": {
      "text/html": [
       "<div>\n",
       "<style scoped>\n",
       "    .dataframe tbody tr th:only-of-type {\n",
       "        vertical-align: middle;\n",
       "    }\n",
       "\n",
       "    .dataframe tbody tr th {\n",
       "        vertical-align: top;\n",
       "    }\n",
       "\n",
       "    .dataframe thead th {\n",
       "        text-align: right;\n",
       "    }\n",
       "</style>\n",
       "<table border=\"1\" class=\"dataframe\">\n",
       "  <thead>\n",
       "    <tr style=\"text-align: right;\">\n",
       "      <th></th>\n",
       "      <th>기준년월</th>\n",
       "      <th>ID</th>\n",
       "      <th>대표결제일</th>\n",
       "      <th>대표결제방법코드</th>\n",
       "      <th>대표청구지고객주소구분코드</th>\n",
       "      <th>대표청구서수령지구분코드</th>\n",
       "      <th>청구서수령방법</th>\n",
       "      <th>청구서발송여부_B0</th>\n",
       "      <th>청구서발송여부_R3M</th>\n",
       "      <th>청구서발송여부_R6M</th>\n",
       "      <th>...</th>\n",
       "      <th>할인금액_청구서_B0M</th>\n",
       "      <th>상환개월수_결제일_R6M</th>\n",
       "      <th>상환개월수_결제일_R3M</th>\n",
       "      <th>선결제건수_R6M</th>\n",
       "      <th>선결제건수_R3M</th>\n",
       "      <th>연체건수_R6M</th>\n",
       "      <th>연체건수_R3M</th>\n",
       "      <th>혜택수혜금액_R3M</th>\n",
       "      <th>포인트_마일리지_환산_B0M</th>\n",
       "      <th>혜택수혜금액</th>\n",
       "    </tr>\n",
       "  </thead>\n",
       "  <tbody>\n",
       "    <tr>\n",
       "      <th>0</th>\n",
       "      <td>201807</td>\n",
       "      <td>TRAIN_000000</td>\n",
       "      <td>27</td>\n",
       "      <td>자동이체</td>\n",
       "      <td>미확인</td>\n",
       "      <td>당사페이앱+이메일</td>\n",
       "      <td>문자메세지</td>\n",
       "      <td>1</td>\n",
       "      <td>1</td>\n",
       "      <td>1</td>\n",
       "      <td>...</td>\n",
       "      <td>0</td>\n",
       "      <td>5</td>\n",
       "      <td>3</td>\n",
       "      <td>0</td>\n",
       "      <td>0</td>\n",
       "      <td>1</td>\n",
       "      <td>0</td>\n",
       "      <td>3</td>\n",
       "      <td>0</td>\n",
       "      <td>0</td>\n",
       "    </tr>\n",
       "    <tr>\n",
       "      <th>1</th>\n",
       "      <td>201807</td>\n",
       "      <td>TRAIN_000001</td>\n",
       "      <td>13</td>\n",
       "      <td>자동이체</td>\n",
       "      <td>주거지</td>\n",
       "      <td>우편</td>\n",
       "      <td>우편</td>\n",
       "      <td>1</td>\n",
       "      <td>1</td>\n",
       "      <td>1</td>\n",
       "      <td>...</td>\n",
       "      <td>163</td>\n",
       "      <td>6</td>\n",
       "      <td>3</td>\n",
       "      <td>0</td>\n",
       "      <td>0</td>\n",
       "      <td>0</td>\n",
       "      <td>0</td>\n",
       "      <td>0</td>\n",
       "      <td>0</td>\n",
       "      <td>0</td>\n",
       "    </tr>\n",
       "    <tr>\n",
       "      <th>2</th>\n",
       "      <td>201807</td>\n",
       "      <td>TRAIN_000002</td>\n",
       "      <td>1</td>\n",
       "      <td>자동이체</td>\n",
       "      <td>미확인</td>\n",
       "      <td>이메일</td>\n",
       "      <td>이메일</td>\n",
       "      <td>1</td>\n",
       "      <td>1</td>\n",
       "      <td>1</td>\n",
       "      <td>...</td>\n",
       "      <td>0</td>\n",
       "      <td>6</td>\n",
       "      <td>3</td>\n",
       "      <td>0</td>\n",
       "      <td>0</td>\n",
       "      <td>0</td>\n",
       "      <td>0</td>\n",
       "      <td>121</td>\n",
       "      <td>0</td>\n",
       "      <td>50</td>\n",
       "    </tr>\n",
       "    <tr>\n",
       "      <th>3</th>\n",
       "      <td>201807</td>\n",
       "      <td>TRAIN_000003</td>\n",
       "      <td>5</td>\n",
       "      <td>자동이체</td>\n",
       "      <td>주거지</td>\n",
       "      <td>우편</td>\n",
       "      <td>우편</td>\n",
       "      <td>1</td>\n",
       "      <td>1</td>\n",
       "      <td>1</td>\n",
       "      <td>...</td>\n",
       "      <td>0</td>\n",
       "      <td>5</td>\n",
       "      <td>3</td>\n",
       "      <td>2</td>\n",
       "      <td>0</td>\n",
       "      <td>0</td>\n",
       "      <td>0</td>\n",
       "      <td>3</td>\n",
       "      <td>0</td>\n",
       "      <td>2</td>\n",
       "    </tr>\n",
       "    <tr>\n",
       "      <th>4</th>\n",
       "      <td>201807</td>\n",
       "      <td>TRAIN_000004</td>\n",
       "      <td>13</td>\n",
       "      <td>자동이체</td>\n",
       "      <td>주거지</td>\n",
       "      <td>우편</td>\n",
       "      <td>우편</td>\n",
       "      <td>0</td>\n",
       "      <td>1</td>\n",
       "      <td>1</td>\n",
       "      <td>...</td>\n",
       "      <td>0</td>\n",
       "      <td>1</td>\n",
       "      <td>1</td>\n",
       "      <td>0</td>\n",
       "      <td>0</td>\n",
       "      <td>0</td>\n",
       "      <td>0</td>\n",
       "      <td>0</td>\n",
       "      <td>0</td>\n",
       "      <td>0</td>\n",
       "    </tr>\n",
       "  </tbody>\n",
       "</table>\n",
       "<p>5 rows × 46 columns</p>\n",
       "</div>"
      ],
      "text/plain": [
       "     기준년월            ID  대표결제일 대표결제방법코드 대표청구지고객주소구분코드 대표청구서수령지구분코드 청구서수령방법  \\\n",
       "0  201807  TRAIN_000000     27     자동이체           미확인    당사페이앱+이메일   문자메세지   \n",
       "1  201807  TRAIN_000001     13     자동이체           주거지           우편      우편   \n",
       "2  201807  TRAIN_000002      1     자동이체           미확인          이메일     이메일   \n",
       "3  201807  TRAIN_000003      5     자동이체           주거지           우편      우편   \n",
       "4  201807  TRAIN_000004     13     자동이체           주거지           우편      우편   \n",
       "\n",
       "   청구서발송여부_B0  청구서발송여부_R3M  청구서발송여부_R6M  ...  할인금액_청구서_B0M  상환개월수_결제일_R6M  \\\n",
       "0           1            1            1  ...             0              5   \n",
       "1           1            1            1  ...           163              6   \n",
       "2           1            1            1  ...             0              6   \n",
       "3           1            1            1  ...             0              5   \n",
       "4           0            1            1  ...             0              1   \n",
       "\n",
       "   상환개월수_결제일_R3M  선결제건수_R6M  선결제건수_R3M  연체건수_R6M  연체건수_R3M  혜택수혜금액_R3M  \\\n",
       "0              3          0          0         1         0           3   \n",
       "1              3          0          0         0         0           0   \n",
       "2              3          0          0         0         0         121   \n",
       "3              3          2          0         0         0           3   \n",
       "4              1          0          0         0         0           0   \n",
       "\n",
       "   포인트_마일리지_환산_B0M  혜택수혜금액  \n",
       "0                0       0  \n",
       "1                0       0  \n",
       "2                0      50  \n",
       "3                0       2  \n",
       "4                0       0  \n",
       "\n",
       "[5 rows x 46 columns]"
      ]
     },
     "execution_count": 1,
     "metadata": {},
     "output_type": "execute_result"
    }
   ],
   "source": [
    "# 라이브러리 불러오기\n",
    "import pandas as pd\n",
    "\n",
    "# 파일 경로 (백슬래시 문제 방지)\n",
    "file_path = r\"C:\\Users\\jun09\\Desktop\\파이널프로젝트\\train\\4.청구입금정보\\201807_train_.csv\"\n",
    "\n",
    "# CSV 파일 불러오기\n",
    "df = pd.read_csv(file_path)\n",
    "\n",
    "# 데이터 크기 확인\n",
    "print(\"데이터 크기:\", df.shape)\n",
    "\n",
    "# 컬럼 리스트 출력\n",
    "print(\"컬럼 리스트:\\n\", df.columns.tolist())\n",
    "\n",
    "# 상위 5개 행 출력\n",
    "df.head()"
   ]
  },
  {
   "cell_type": "code",
   "execution_count": 2,
   "id": "75e8e289-8c61-4021-bc16-6171bd8acf89",
   "metadata": {},
   "outputs": [
    {
     "name": "stdout",
     "output_type": "stream",
     "text": [
      "Requirement already satisfied: pyarrow in c:\\users\\jun09\\anaconda3\\lib\\site-packages (20.0.0)\n"
     ]
    }
   ],
   "source": [
    "!pip install pyarrow"
   ]
  },
  {
   "cell_type": "code",
   "execution_count": 3,
   "id": "972c486b-2293-47df-9408-a69fcf7f63b2",
   "metadata": {},
   "outputs": [],
   "source": [
    "import pyarrow.parquet as pq"
   ]
  },
  {
   "cell_type": "code",
   "execution_count": 4,
   "id": "9651b078-1fc7-46a6-9ca7-846f6a31e815",
   "metadata": {},
   "outputs": [
    {
     "data": {
      "text/html": [
       "<div>\n",
       "<style scoped>\n",
       "    .dataframe tbody tr th:only-of-type {\n",
       "        vertical-align: middle;\n",
       "    }\n",
       "\n",
       "    .dataframe tbody tr th {\n",
       "        vertical-align: top;\n",
       "    }\n",
       "\n",
       "    .dataframe thead th {\n",
       "        text-align: right;\n",
       "    }\n",
       "</style>\n",
       "<table border=\"1\" class=\"dataframe\">\n",
       "  <thead>\n",
       "    <tr style=\"text-align: right;\">\n",
       "      <th></th>\n",
       "      <th>기준년월</th>\n",
       "      <th>ID</th>\n",
       "      <th>남녀구분코드</th>\n",
       "      <th>연령</th>\n",
       "      <th>Segment</th>\n",
       "      <th>회원여부_이용가능</th>\n",
       "      <th>회원여부_이용가능_CA</th>\n",
       "      <th>회원여부_이용가능_카드론</th>\n",
       "      <th>소지여부_신용</th>\n",
       "      <th>소지카드수_유효_신용</th>\n",
       "      <th>...</th>\n",
       "      <th>할인금액_제휴연회비_B0M</th>\n",
       "      <th>청구금액_기본연회비_B0M</th>\n",
       "      <th>청구금액_제휴연회비_B0M</th>\n",
       "      <th>상품관련면제카드수_B0M</th>\n",
       "      <th>임직원면제카드수_B0M</th>\n",
       "      <th>우수회원면제카드수_B0M</th>\n",
       "      <th>기타면제카드수_B0M</th>\n",
       "      <th>카드신청건수</th>\n",
       "      <th>Life_Stage</th>\n",
       "      <th>최종카드발급경과월</th>\n",
       "    </tr>\n",
       "  </thead>\n",
       "  <tbody>\n",
       "    <tr>\n",
       "      <th>0</th>\n",
       "      <td>201807</td>\n",
       "      <td>TRAIN_000000</td>\n",
       "      <td>2</td>\n",
       "      <td>40대</td>\n",
       "      <td>D</td>\n",
       "      <td>1</td>\n",
       "      <td>1</td>\n",
       "      <td>0</td>\n",
       "      <td>1</td>\n",
       "      <td>1</td>\n",
       "      <td>...</td>\n",
       "      <td>0</td>\n",
       "      <td>0</td>\n",
       "      <td>0</td>\n",
       "      <td>0개</td>\n",
       "      <td>0개</td>\n",
       "      <td>0개</td>\n",
       "      <td>0개</td>\n",
       "      <td>0</td>\n",
       "      <td>자녀성장(2)</td>\n",
       "      <td>22</td>\n",
       "    </tr>\n",
       "    <tr>\n",
       "      <th>1</th>\n",
       "      <td>201807</td>\n",
       "      <td>TRAIN_000001</td>\n",
       "      <td>1</td>\n",
       "      <td>30대</td>\n",
       "      <td>E</td>\n",
       "      <td>1</td>\n",
       "      <td>1</td>\n",
       "      <td>1</td>\n",
       "      <td>1</td>\n",
       "      <td>1</td>\n",
       "      <td>...</td>\n",
       "      <td>0</td>\n",
       "      <td>0</td>\n",
       "      <td>0</td>\n",
       "      <td>0개</td>\n",
       "      <td>0개</td>\n",
       "      <td>0개</td>\n",
       "      <td>0개</td>\n",
       "      <td>0</td>\n",
       "      <td>자녀성장(1)</td>\n",
       "      <td>18</td>\n",
       "    </tr>\n",
       "    <tr>\n",
       "      <th>2</th>\n",
       "      <td>201807</td>\n",
       "      <td>TRAIN_000002</td>\n",
       "      <td>1</td>\n",
       "      <td>30대</td>\n",
       "      <td>C</td>\n",
       "      <td>1</td>\n",
       "      <td>1</td>\n",
       "      <td>0</td>\n",
       "      <td>1</td>\n",
       "      <td>1</td>\n",
       "      <td>...</td>\n",
       "      <td>0</td>\n",
       "      <td>0</td>\n",
       "      <td>0</td>\n",
       "      <td>0개</td>\n",
       "      <td>0개</td>\n",
       "      <td>0개</td>\n",
       "      <td>0개</td>\n",
       "      <td>0</td>\n",
       "      <td>자녀출산기</td>\n",
       "      <td>20</td>\n",
       "    </tr>\n",
       "    <tr>\n",
       "      <th>3</th>\n",
       "      <td>201807</td>\n",
       "      <td>TRAIN_000003</td>\n",
       "      <td>2</td>\n",
       "      <td>40대</td>\n",
       "      <td>D</td>\n",
       "      <td>1</td>\n",
       "      <td>1</td>\n",
       "      <td>0</td>\n",
       "      <td>1</td>\n",
       "      <td>2</td>\n",
       "      <td>...</td>\n",
       "      <td>0</td>\n",
       "      <td>0</td>\n",
       "      <td>0</td>\n",
       "      <td>0개</td>\n",
       "      <td>0개</td>\n",
       "      <td>0개</td>\n",
       "      <td>0개</td>\n",
       "      <td>1</td>\n",
       "      <td>자녀성장(2)</td>\n",
       "      <td>17</td>\n",
       "    </tr>\n",
       "    <tr>\n",
       "      <th>4</th>\n",
       "      <td>201807</td>\n",
       "      <td>TRAIN_000004</td>\n",
       "      <td>2</td>\n",
       "      <td>40대</td>\n",
       "      <td>E</td>\n",
       "      <td>1</td>\n",
       "      <td>1</td>\n",
       "      <td>1</td>\n",
       "      <td>1</td>\n",
       "      <td>1</td>\n",
       "      <td>...</td>\n",
       "      <td>0</td>\n",
       "      <td>0</td>\n",
       "      <td>0</td>\n",
       "      <td>0개</td>\n",
       "      <td>0개</td>\n",
       "      <td>0개</td>\n",
       "      <td>0개</td>\n",
       "      <td>1</td>\n",
       "      <td>자녀성장(1)</td>\n",
       "      <td>15</td>\n",
       "    </tr>\n",
       "  </tbody>\n",
       "</table>\n",
       "<p>5 rows × 78 columns</p>\n",
       "</div>"
      ],
      "text/plain": [
       "     기준년월            ID  남녀구분코드   연령 Segment  회원여부_이용가능  회원여부_이용가능_CA  \\\n",
       "0  201807  TRAIN_000000       2  40대       D          1             1   \n",
       "1  201807  TRAIN_000001       1  30대       E          1             1   \n",
       "2  201807  TRAIN_000002       1  30대       C          1             1   \n",
       "3  201807  TRAIN_000003       2  40대       D          1             1   \n",
       "4  201807  TRAIN_000004       2  40대       E          1             1   \n",
       "\n",
       "   회원여부_이용가능_카드론  소지여부_신용  소지카드수_유효_신용  ...  할인금액_제휴연회비_B0M  청구금액_기본연회비_B0M  \\\n",
       "0              0        1            1  ...               0               0   \n",
       "1              1        1            1  ...               0               0   \n",
       "2              0        1            1  ...               0               0   \n",
       "3              0        1            2  ...               0               0   \n",
       "4              1        1            1  ...               0               0   \n",
       "\n",
       "   청구금액_제휴연회비_B0M  상품관련면제카드수_B0M  임직원면제카드수_B0M  우수회원면제카드수_B0M  기타면제카드수_B0M  \\\n",
       "0               0             0개            0개             0개           0개   \n",
       "1               0             0개            0개             0개           0개   \n",
       "2               0             0개            0개             0개           0개   \n",
       "3               0             0개            0개             0개           0개   \n",
       "4               0             0개            0개             0개           0개   \n",
       "\n",
       "   카드신청건수  Life_Stage  최종카드발급경과월  \n",
       "0       0     자녀성장(2)         22  \n",
       "1       0     자녀성장(1)         18  \n",
       "2       0       자녀출산기         20  \n",
       "3       1     자녀성장(2)         17  \n",
       "4       1     자녀성장(1)         15  \n",
       "\n",
       "[5 rows x 78 columns]"
      ]
     },
     "execution_count": 4,
     "metadata": {},
     "output_type": "execute_result"
    }
   ],
   "source": [
    "\n",
    "file_path = r\"C:\\Users\\jun09\\Desktop\\파이널프로젝트\\train\\1.회원정보\\201807_train_.parquet\"\n",
    "\n",
    "# CSV처럼 읽기 시도\n",
    "df2 = pd.read_csv(file_path)\n",
    "\n",
    "df2.head()\n"
   ]
  },
  {
   "cell_type": "code",
   "execution_count": 12,
   "id": "47cbe182-5cd8-422c-8de0-2dc30f6725ee",
   "metadata": {},
   "outputs": [
    {
     "name": "stdout",
     "output_type": "stream",
     "text": [
      "복사된 데이터프레임 크기: (400000, 47)\n"
     ]
    },
    {
     "data": {
      "text/html": [
       "<div>\n",
       "<style scoped>\n",
       "    .dataframe tbody tr th:only-of-type {\n",
       "        vertical-align: middle;\n",
       "    }\n",
       "\n",
       "    .dataframe tbody tr th {\n",
       "        vertical-align: top;\n",
       "    }\n",
       "\n",
       "    .dataframe thead th {\n",
       "        text-align: right;\n",
       "    }\n",
       "</style>\n",
       "<table border=\"1\" class=\"dataframe\">\n",
       "  <thead>\n",
       "    <tr style=\"text-align: right;\">\n",
       "      <th></th>\n",
       "      <th>ID</th>\n",
       "      <th>Segment</th>\n",
       "    </tr>\n",
       "  </thead>\n",
       "  <tbody>\n",
       "    <tr>\n",
       "      <th>0</th>\n",
       "      <td>TRAIN_000000</td>\n",
       "      <td>D</td>\n",
       "    </tr>\n",
       "    <tr>\n",
       "      <th>1</th>\n",
       "      <td>TRAIN_000001</td>\n",
       "      <td>E</td>\n",
       "    </tr>\n",
       "    <tr>\n",
       "      <th>2</th>\n",
       "      <td>TRAIN_000002</td>\n",
       "      <td>C</td>\n",
       "    </tr>\n",
       "    <tr>\n",
       "      <th>3</th>\n",
       "      <td>TRAIN_000003</td>\n",
       "      <td>D</td>\n",
       "    </tr>\n",
       "    <tr>\n",
       "      <th>4</th>\n",
       "      <td>TRAIN_000004</td>\n",
       "      <td>E</td>\n",
       "    </tr>\n",
       "  </tbody>\n",
       "</table>\n",
       "</div>"
      ],
      "text/plain": [
       "             ID Segment\n",
       "0  TRAIN_000000       D\n",
       "1  TRAIN_000001       E\n",
       "2  TRAIN_000002       C\n",
       "3  TRAIN_000003       D\n",
       "4  TRAIN_000004       E"
      ]
     },
     "execution_count": 12,
     "metadata": {},
     "output_type": "execute_result"
    }
   ],
   "source": [
    "# 1. df 복사\n",
    "df_copy = df.copy()\n",
    "\n",
    "# 2. Segment 컬럼만 추출\n",
    "df_segment = df2[['ID', 'Segment']]\n",
    "\n",
    "# 3. 복사본에 Segment 병합\n",
    "df_copy = df_copy.merge(df_segment, on='ID', how='left')\n",
    "\n",
    "# 4. 확인\n",
    "print(\"복사된 데이터프레임 크기:\", df_copy.shape)\n",
    "df_copy[['ID', 'Segment']].head()\n"
   ]
  },
  {
   "cell_type": "code",
   "execution_count": 16,
   "id": "bc9b67b0-4dbc-409a-bc2e-5b7a8d10730e",
   "metadata": {},
   "outputs": [
    {
     "data": {
      "text/plain": [
       "Index(['기준년월', 'ID', '대표결제일', '대표결제방법코드', '대표청구지고객주소구분코드', '대표청구서수령지구분코드',\n",
       "       '청구서수령방법', '청구서발송여부_B0', '청구서발송여부_R3M', '청구서발송여부_R6M', '청구금액_B0',\n",
       "       '청구금액_R3M', '청구금액_R6M', '포인트_마일리지_건별_B0M', '포인트_마일리지_건별_R3M',\n",
       "       '포인트_포인트_건별_B0M', '포인트_포인트_건별_R3M', '포인트_마일리지_월적립_B0M',\n",
       "       '포인트_마일리지_월적립_R3M', '포인트_포인트_월적립_B0M', '포인트_포인트_월적립_R3M',\n",
       "       '포인트_적립포인트_R12M', '포인트_적립포인트_R3M', '포인트_이용포인트_R12M', '포인트_이용포인트_R3M',\n",
       "       '포인트_잔여포인트_B0M', '마일_적립포인트_R12M', '마일_적립포인트_R3M', '마일_이용포인트_R12M',\n",
       "       '마일_이용포인트_R3M', '마일_잔여포인트_B0M', '할인건수_R3M', '할인금액_R3M', '할인건수_B0M',\n",
       "       '할인금액_B0M', '할인금액_청구서_R3M', '할인금액_청구서_B0M', '상환개월수_결제일_R6M',\n",
       "       '상환개월수_결제일_R3M', '선결제건수_R6M', '선결제건수_R3M', '연체건수_R6M', '연체건수_R3M',\n",
       "       '혜택수혜금액_R3M', '포인트_마일리지_환산_B0M', '혜택수혜금액', 'Segment'],\n",
       "      dtype='object')"
      ]
     },
     "execution_count": 16,
     "metadata": {},
     "output_type": "execute_result"
    }
   ],
   "source": [
    "df_copy.columns"
   ]
  },
  {
   "cell_type": "markdown",
   "id": "aab0c9ae-5fc6-4cc5-b142-055252bceee3",
   "metadata": {},
   "source": [
    "## 세그먼트별 고객 수 비율"
   ]
  },
  {
   "cell_type": "code",
   "execution_count": 46,
   "id": "493fa5ae-df9e-495d-b15e-304880251390",
   "metadata": {},
   "outputs": [
    {
     "data": {
      "text/plain": [
       "<Axes: title={'center': '세그먼트별 고객 비율'}, xlabel='Segment'>"
      ]
     },
     "execution_count": 46,
     "metadata": {},
     "output_type": "execute_result"
    },
    {
     "data": {
      "image/png": "[encoded data removed]",
      "text/plain": [
       "<Figure size 640x480 with 1 Axes>"
      ]
     },
     "metadata": {},
     "output_type": "display_data"
    }
   ],
   "source": [
    "df_copy['Segment'].value_counts(normalize=True).plot(kind='bar', title='세그먼트별 고객 비율')\n"
   ]
  },
  {
   "cell_type": "markdown",
   "id": "839d6584-8396-4e74-9466-9b037a07e4ad",
   "metadata": {},
   "source": [
    "## 세그먼트별 주요 지표 평균 비교"
   ]
  },
  {
   "cell_type": "code",
   "execution_count": 24,
   "id": "ec74abdb-65ae-4b93-aef9-807018360624",
   "metadata": {},
   "outputs": [
    {
     "data": {
      "text/html": [
       "<div>\n",
       "<style scoped>\n",
       "    .dataframe tbody tr th:only-of-type {\n",
       "        vertical-align: middle;\n",
       "    }\n",
       "\n",
       "    .dataframe tbody tr th {\n",
       "        vertical-align: top;\n",
       "    }\n",
       "\n",
       "    .dataframe thead th {\n",
       "        text-align: right;\n",
       "    }\n",
       "</style>\n",
       "<table border=\"1\" class=\"dataframe\">\n",
       "  <thead>\n",
       "    <tr style=\"text-align: right;\">\n",
       "      <th></th>\n",
       "      <th>청구금액_B0</th>\n",
       "      <th>청구금액_R3M</th>\n",
       "      <th>포인트_잔여포인트_B0M</th>\n",
       "      <th>포인트_적립포인트_R3M</th>\n",
       "      <th>포인트_이용포인트_R3M</th>\n",
       "      <th>연체건수_R3M</th>\n",
       "      <th>혜택수혜금액</th>\n",
       "    </tr>\n",
       "    <tr>\n",
       "      <th>Segment</th>\n",
       "      <th></th>\n",
       "      <th></th>\n",
       "      <th></th>\n",
       "      <th></th>\n",
       "      <th></th>\n",
       "      <th></th>\n",
       "      <th></th>\n",
       "    </tr>\n",
       "  </thead>\n",
       "  <tbody>\n",
       "    <tr>\n",
       "      <th>A</th>\n",
       "      <td>48319.4</td>\n",
       "      <td>154079.7</td>\n",
       "      <td>0.0</td>\n",
       "      <td>2685.0</td>\n",
       "      <td>3930.2</td>\n",
       "      <td>0.2</td>\n",
       "      <td>227.7</td>\n",
       "    </tr>\n",
       "    <tr>\n",
       "      <th>B</th>\n",
       "      <td>47075.1</td>\n",
       "      <td>157524.7</td>\n",
       "      <td>0.0</td>\n",
       "      <td>4527.3</td>\n",
       "      <td>7320.4</td>\n",
       "      <td>0.5</td>\n",
       "      <td>198.2</td>\n",
       "    </tr>\n",
       "    <tr>\n",
       "      <th>C</th>\n",
       "      <td>19551.1</td>\n",
       "      <td>62056.9</td>\n",
       "      <td>0.4</td>\n",
       "      <td>3019.8</td>\n",
       "      <td>5218.1</td>\n",
       "      <td>0.3</td>\n",
       "      <td>114.4</td>\n",
       "    </tr>\n",
       "    <tr>\n",
       "      <th>D</th>\n",
       "      <td>10699.6</td>\n",
       "      <td>34059.2</td>\n",
       "      <td>0.7</td>\n",
       "      <td>2576.3</td>\n",
       "      <td>4188.3</td>\n",
       "      <td>0.3</td>\n",
       "      <td>77.2</td>\n",
       "    </tr>\n",
       "    <tr>\n",
       "      <th>E</th>\n",
       "      <td>3113.6</td>\n",
       "      <td>9919.7</td>\n",
       "      <td>1.0</td>\n",
       "      <td>1016.2</td>\n",
       "      <td>1411.0</td>\n",
       "      <td>0.2</td>\n",
       "      <td>26.4</td>\n",
       "    </tr>\n",
       "  </tbody>\n",
       "</table>\n",
       "</div>"
      ],
      "text/plain": [
       "         청구금액_B0  청구금액_R3M  포인트_잔여포인트_B0M  포인트_적립포인트_R3M  포인트_이용포인트_R3M  \\\n",
       "Segment                                                                   \n",
       "A        48319.4  154079.7            0.0         2685.0         3930.2   \n",
       "B        47075.1  157524.7            0.0         4527.3         7320.4   \n",
       "C        19551.1   62056.9            0.4         3019.8         5218.1   \n",
       "D        10699.6   34059.2            0.7         2576.3         4188.3   \n",
       "E         3113.6    9919.7            1.0         1016.2         1411.0   \n",
       "\n",
       "         연체건수_R3M  혜택수혜금액  \n",
       "Segment                    \n",
       "A             0.2   227.7  \n",
       "B             0.5   198.2  \n",
       "C             0.3   114.4  \n",
       "D             0.3    77.2  \n",
       "E             0.2    26.4  "
      ]
     },
     "execution_count": 24,
     "metadata": {},
     "output_type": "execute_result"
    }
   ],
   "source": [
    "df_copy.groupby('Segment')[\n",
    "    ['청구금액_B0', '청구금액_R3M', '포인트_잔여포인트_B0M', \n",
    "     '포인트_적립포인트_R3M', '포인트_이용포인트_R3M',\n",
    "     '연체건수_R3M', '혜택수혜금액']\n",
    "].mean().round(1)\n"
   ]
  },
  {
   "cell_type": "markdown",
   "id": "72a0f71f-6a75-4df9-93f6-2e71a56fe5d7",
   "metadata": {},
   "source": [
    "## 세그먼트별 청구금액 분포 "
   ]
  },
  {
   "cell_type": "code",
   "execution_count": 44,
   "id": "2aebbaa2-67fb-40fd-ad00-8d4b0dfad311",
   "metadata": {},
   "outputs": [
    {
     "data": {
      "image/png": "[encoded data removed]",
      "text/plain": [
       "<Figure size 1000x600 with 1 Axes>"
      ]
     },
     "metadata": {},
     "output_type": "display_data"
    }
   ],
   "source": [
    "import seaborn as sns\n",
    "import matplotlib.pyplot as plt\n",
    "\n",
    "plt.figure(figsize=(10,6))\n",
    "sns.boxplot(data=df_copy, x='Segment', y='청구금액_B0')\n",
    "plt.title(\"Segment별 청구금액 분포\")\n",
    "plt.show()\n"
   ]
  },
  {
   "cell_type": "markdown",
   "id": "96590409-26a3-4d07-bb71-3b1e5cc09cfa",
   "metadata": {},
   "source": [
    "이상치가 굉장히 많아서 이상치 제거후 다시 그리기"
   ]
  },
  {
   "cell_type": "markdown",
   "id": "b32fcc90-a940-4380-b85e-b157e33317e6",
   "metadata": {},
   "source": [
    "## 이상치 제거 후 Boxplot 그리기"
   ]
  },
  {
   "cell_type": "code",
   "execution_count": 69,
   "id": "203aa6aa-d9ff-4988-a4d8-cb7316be3b98",
   "metadata": {},
   "outputs": [
    {
     "data": {
      "image/png": "[encoded data removed]",
      "text/plain": [
       "<Figure size 1000x600 with 1 Axes>"
      ]
     },
     "metadata": {},
     "output_type": "display_data"
    }
   ],
   "source": [
    "# IQR 기반 이상치 제거\n",
    "q1 = df_copy['청구금액_B0'].quantile(0.25)\n",
    "q3 = df_copy['청구금액_B0'].quantile(0.75)\n",
    "iqr = q3 - q1\n",
    "\n",
    "# IQR 범위 내 데이터만 필터링\n",
    "df_filtered = df_copy[(df_copy['청구금액_B0'] >= q1 - 1.5*iqr) & (df_copy['청구금액_B0'] <= q3 + 1.5*iqr)]\n",
    "\n",
    "# 필터링된 데이터로 다시 boxplot\n",
    "import seaborn as sns\n",
    "import matplotlib.pyplot as plt\n",
    "\n",
    "plt.figure(figsize=(10,6))\n",
    "sns.boxplot(data=df_filtered, x='Segment', y='청구금액_B0')\n",
    "plt.title(\"Segment별 청구금액 분포 (이상치 제거)\")\n",
    "plt.show()\n"
   ]
  },
  {
   "cell_type": "markdown",
   "id": "91386b8d-7187-476d-827a-90fcac8634e2",
   "metadata": {},
   "source": [
    "이상치 제거후 그려보니 이상함 이유는 세그먼트간에 수 차이가 너무 크기때문인거 같음"
   ]
  },
  {
   "cell_type": "code",
   "execution_count": 73,
   "id": "1205b3ea-4495-4a74-8551-47f5ba916257",
   "metadata": {},
   "outputs": [
    {
     "name": "stdout",
     "output_type": "stream",
     "text": [
      "            고객수  비율(%)\n",
      "Segment               \n",
      "E        320342   80.1\n",
      "D         58207   14.6\n",
      "C         21265    5.3\n",
      "A           162    0.0\n",
      "B            24    0.0\n"
     ]
    }
   ],
   "source": [
    "segment_counts = df_copy['Segment'].value_counts().rename('고객수')\n",
    "segment_ratios = df_copy['Segment'].value_counts(normalize=True).rename('비율(%)') * 100\n",
    "\n",
    "segment_summary = pd.concat([segment_counts, segment_ratios], axis=1).round(1)\n",
    "print(segment_summary)\n"
   ]
  },
  {
   "cell_type": "markdown",
   "id": "183153c9-3ae4-4ed6-8f45-f1228cec3138",
   "metadata": {},
   "source": [
    "## 세그먼트별 연체율"
   ]
  },
  {
   "cell_type": "code",
   "execution_count": 77,
   "id": "39ea3941-ef18-46b6-8ea6-09c077140eea",
   "metadata": {},
   "outputs": [
    {
     "name": "stdout",
     "output_type": "stream",
     "text": [
      "         전체 고객수  연체 고객수   비율(%)    연체율\n",
      "Segment                               \n",
      "B            24       6   0.006  0.250\n",
      "C         21265    3632   5.316  0.171\n",
      "D         58207    9870  14.552  0.170\n",
      "A           162      23   0.040  0.142\n",
      "E        320342   39571  80.086  0.124\n"
     ]
    }
   ],
   "source": [
    "# 연체 여부 컬럼 생성\n",
    "df_copy['연체여부'] = (df_copy['연체건수_R3M'] > 0).astype(int)\n",
    "\n",
    "# 전체 고객 수\n",
    "total_counts = df_copy['Segment'].value_counts().rename('전체 고객수')\n",
    "\n",
    "# 연체 중인 고객 수\n",
    "late_counts = df_copy[df_copy['연체여부'] == 1]['Segment'].value_counts().rename('연체 고객수')\n",
    "\n",
    "# 비율 (%)\n",
    "segment_ratios = df_copy['Segment'].value_counts(normalize=True).rename('비율(%)') * 100\n",
    "\n",
    "# 연체율 (연체 고객수 / 전체 고객수)\n",
    "segment_delay_rate = (late_counts / total_counts).rename('연체율')\n",
    "\n",
    "# 통합 요약표\n",
    "segment_summary = pd.concat([total_counts, late_counts, segment_ratios, segment_delay_rate], axis=1).fillna(0).round(3)\n",
    "segment_summary = segment_summary.astype({'연체 고객수': 'int'})\n",
    "segment_summary = segment_summary.sort_values(by='연체율', ascending=False)\n",
    "\n",
    "print(segment_summary)\n"
   ]
  },
  {
   "cell_type": "markdown",
   "id": "d4a1b65c-dd1a-445c-b64d-783c57b946ad",
   "metadata": {},
   "source": [
    "연체율이 높은 Segment는 B와 C\n",
    "\n",
    "하지만 실제 연체 인원 수는 E가 압도적 (모수가 크기 때문)"
   ]
  },
  {
   "cell_type": "markdown",
   "id": "ff9c5bfe-819c-40ef-bac2-093df455d26d",
   "metadata": {},
   "source": [
    "## 세그먼트별 혜택 수혜 여부 비교"
   ]
  },
  {
   "cell_type": "code",
   "execution_count": 82,
   "id": "e99a484b-3e77-4626-8be3-555bf9a2543d",
   "metadata": {},
   "outputs": [
    {
     "name": "stdout",
     "output_type": "stream",
     "text": [
      "         전체 고객수  수혜 고객수  수혜율(%)\n",
      "Segment                        \n",
      "B            24      22   91.67\n",
      "A           162     143   88.27\n",
      "C         21265   13908   65.40\n",
      "D         58207   33485   57.53\n",
      "E        320342  104551   32.64\n"
     ]
    }
   ],
   "source": [
    "# 혜택 수혜 여부 컬럼 만들기\n",
    "df_copy['혜택수혜여부'] = (df_copy['혜택수혜금액'] > 0).astype(int)\n",
    "\n",
    "# 전체 고객 수\n",
    "total_counts = df_copy.groupby('Segment').size().rename('전체 고객수')\n",
    "\n",
    "# 혜택 수혜 고객 수\n",
    "benefit_counts = df_copy[df_copy['혜택수혜여부'] == 1].groupby('Segment').size().rename('수혜 고객수')\n",
    "\n",
    "# 혜택 수혜율 (%)\n",
    "benefit_ratio = (benefit_counts / total_counts * 100).rename('수혜율(%)')\n",
    "\n",
    "# 통합 요약표\n",
    "benefit_summary = pd.concat([total_counts, benefit_counts, benefit_ratio], axis=1).fillna(0).astype({'수혜 고객수': 'int'}).round(2)\n",
    "\n",
    "# 수혜율 기준 정렬\n",
    "benefit_summary = benefit_summary.sort_values(by='수혜율(%)', ascending=False)\n",
    "\n",
    "print(benefit_summary)\n"
   ]
  },
  {
   "cell_type": "markdown",
   "id": "b4f64175-2405-4314-b796-a66e6294e4a8",
   "metadata": {},
   "source": [
    "수혜율이 가장 높은 세그먼트가 C, 하지만 수혜 인원이 가장 많은 건 E\n",
    "\n",
    "프로모션이나 혜택이 효율적으로 작동한 세그먼트를 파악할 수 있어"
   ]
  },
  {
   "cell_type": "markdown",
   "id": "544ae11e-3932-4562-8fbf-d3a16cc48114",
   "metadata": {},
   "source": [
    "## Segment별 포인트 사용량 비교 그래프"
   ]
  },
  {
   "cell_type": "code",
   "execution_count": 85,
   "id": "62c52bd9-ba39-4855-98d3-9fce6d042d68",
   "metadata": {},
   "outputs": [
    {
     "name": "stderr",
     "output_type": "stream",
     "text": [
      "C:\\Users\\jun09\\AppData\\Local\\Temp\\ipykernel_19116\\3541285880.py:2: FutureWarning: \n",
      "\n",
      "The `ci` parameter is deprecated. Use `errorbar=None` for the same effect.\n",
      "\n",
      "  sns.barplot(\n"
     ]
    },
    {
     "data": {
      "image/png": "[encoded data removed]",
      "text/plain": [
       "<Figure size 800x500 with 1 Axes>"
      ]
     },
     "metadata": {},
     "output_type": "display_data"
    }
   ],
   "source": [
    "plt.figure(figsize=(8,5))\n",
    "sns.barplot(\n",
    "    x='Segment',\n",
    "    y='포인트_이용포인트_R3M',\n",
    "    data=df_copy,\n",
    "    estimator='mean',\n",
    "    ci=None\n",
    ")\n",
    "plt.title(\"Segment별 평균 포인트 사용량 (R3M 기준)\")\n",
    "plt.ylabel(\"평균 포인트 사용량\")\n",
    "plt.show()\n"
   ]
  },
  {
   "cell_type": "markdown",
   "id": "b088c67b-843a-49b8-b57f-6788a494bca7",
   "metadata": {},
   "source": [
    "🎯 인사이트: Segment별 평균 포인트 사용량 (최근 3개월 기준)\n",
    "Segment A, B는 평균 사용량이 가장 높다\n",
    "→ 고객 수는 적지만, 고가 고객 또는 포인트를 적극적으로 활용하는 우수고객군일 가능성이 있음.\n",
    "→ 이들은 충성도 프로그램 타겟군으로 활용 가능.\n",
    "\n",
    "Segment C, D는 중간 수준의 포인트 사용량\n",
    "→ 포인트 사용에 중간 정도의 관심, 필요에 따라 이탈/유지 가능성이 있는 그룹\n",
    "→ 리텐션 마케팅이 필요한 타겟층으로 볼 수 있음.\n",
    "\n",
    "Segment E는 사용량이 매우 낮음\n",
    "→ 전체 고객의 80% 이상이 속한 대규모 저활성군\n",
    "→ 이 그룹의 사용률을 높이는 것이 전체 성과에 큰 영향을 줄 수 있음.\n",
    "→ 포인트 사용 유도 캠페인, 앱 알림/인앱 메시지, 교육성 콘텐츠 등이 효과적일 수 있음.\n",
    "\n",
    "📌 전략 제안\n",
    "Segment\t전략\n",
    "A, B\tVIP 고객 유지 전략 / 혜택 확대 / 전용 서비스\n",
    "C, D\t리텐션 중심 캠페인 / 맞춤형 혜택 제안\n",
    "E\t포인트 사용 유도 / 앱 경험 개선 / 교육형 콘텐츠"
   ]
  },
  {
   "cell_type": "markdown",
   "id": "d4c3468c-664b-4a76-ba09-213761053ed5",
   "metadata": {},
   "source": [
    "## Segment별 포인트 적립 vs 사용량 (R3M 기준) 비교 그래프"
   ]
  },
  {
   "cell_type": "code",
   "execution_count": 89,
   "id": "5dcf4994-0ead-439d-96d6-6d64f17b9e4c",
   "metadata": {},
   "outputs": [
    {
     "data": {
      "image/png": "[encoded data removed]",
      "text/plain": [
       "<Figure size 1000x600 with 1 Axes>"
      ]
     },
     "metadata": {},
     "output_type": "display_data"
    }
   ],
   "source": [
    "# Segment별 평균 포인트 적립 & 사용량 계산\n",
    "point_summary = df_copy.groupby(\"Segment\")[\n",
    "    [\"포인트_적립포인트_R3M\", \"포인트_이용포인트_R3M\"]\n",
    "].mean().reset_index()\n",
    "\n",
    "# 시각화를 위해 melt 형태로 변환\n",
    "point_summary_melted = pd.melt(\n",
    "    point_summary,\n",
    "    id_vars=\"Segment\",\n",
    "    var_name=\"포인트유형\",\n",
    "    value_name=\"평균포인트\"\n",
    ")\n",
    "\n",
    "# 그래프 그리기\n",
    "plt.figure(figsize=(10, 6))\n",
    "sns.barplot(\n",
    "    data=point_summary_melted,\n",
    "    x=\"Segment\",\n",
    "    y=\"평균포인트\",\n",
    "    hue=\"포인트유형\"\n",
    ")\n",
    "plt.title(\"Segment별 평균 포인트 적립 vs 사용량 (R3M 기준)\")\n",
    "plt.ylabel(\"평균 포인트\")\n",
    "plt.xlabel(\"Segment\")\n",
    "plt.legend(title=\"포인트 유형\")\n",
    "plt.tight_layout()\n",
    "plt.show()"
   ]
  },
  {
   "cell_type": "markdown",
   "id": "a58ff0b0-c87e-44b8-913e-bf3706029002",
   "metadata": {},
   "source": [
    "막대 길이가 길수록 해당 Segment가 포인트 적립 또는 사용이 활발\n",
    "\n",
    "두 막대 차이가 크면 포인트를 많이 모으기만 하거나, 빨리 소모하는 패턴"
   ]
  },
  {
   "cell_type": "markdown",
   "id": "50da92ee-3196-4a69-ae71-8222a1ba1fd6",
   "metadata": {},
   "source": [
    "## Segment별 포인트 사용률 계산 코드"
   ]
  },
  {
   "cell_type": "code",
   "execution_count": 97,
   "id": "e3655a3d-6f5b-4e7d-bc46-5cf91780ca1c",
   "metadata": {},
   "outputs": [
    {
     "name": "stdout",
     "output_type": "stream",
     "text": [
      "         포인트 사용률 (%)\n",
      "Segment             \n",
      "C             172.80\n",
      "D             162.57\n",
      "B             161.69\n",
      "A             146.37\n",
      "E             138.85\n"
     ]
    }
   ],
   "source": [
    "# Segment별 평균 포인트 적립/사용량 계산\n",
    "point_stats = df_copy.groupby(\"Segment\")[[\"포인트_적립포인트_R3M\", \"포인트_이용포인트_R3M\"]].mean()\n",
    "\n",
    "# 사용률 계산\n",
    "point_stats[\"포인트 사용률 (%)\"] = (point_stats[\"포인트_이용포인트_R3M\"] / point_stats[\"포인트_적립포인트_R3M\"]) * 100\n",
    "\n",
    "# 결과 정리\n",
    "point_usage_rate = point_stats[[\"포인트 사용률 (%)\"]].round(2).sort_values(by=\"포인트 사용률 (%)\", ascending=False)\n",
    "\n",
    "print(point_usage_rate)\n"
   ]
  },
  {
   "cell_type": "markdown",
   "id": "c3dfa2b9-f067-4717-92a5-a1989e1cad30",
   "metadata": {},
   "source": [
    "과거에 적립한 포인트를 지금 사용해서 적립량대비 사용량이 많아질수도 있음 확인해보기 위해서 잔여포인트와도 비교해보기"
   ]
  },
  {
   "cell_type": "markdown",
   "id": "41159d5f-aaec-4cc6-9cea-cac54f3872c0",
   "metadata": {},
   "source": [
    "## 포인트 적립 - 사용 ≠ 잔여포인트인지 확인하기"
   ]
  },
  {
   "cell_type": "code",
   "execution_count": 105,
   "id": "4b839304-e1fe-43bc-81f5-19f8f80a6019",
   "metadata": {},
   "outputs": [
    {
     "name": "stdout",
     "output_type": "stream",
     "text": [
      "count    400000.000000\n",
      "mean       -669.173900\n",
      "std        3553.293328\n",
      "min     -123549.000000\n",
      "25%           0.000000\n",
      "50%           0.000000\n",
      "75%           0.000000\n",
      "max       11861.000000\n",
      "Name: 잔여오차, dtype: float64\n",
      "계산된 잔여포인트가 실제값과 정확히 일치하는 비율: 77.13%\n"
     ]
    },
    {
     "data": {
      "text/html": [
       "<div>\n",
       "<style scoped>\n",
       "    .dataframe tbody tr th:only-of-type {\n",
       "        vertical-align: middle;\n",
       "    }\n",
       "\n",
       "    .dataframe tbody tr th {\n",
       "        vertical-align: top;\n",
       "    }\n",
       "\n",
       "    .dataframe thead th {\n",
       "        text-align: right;\n",
       "    }\n",
       "</style>\n",
       "<table border=\"1\" class=\"dataframe\">\n",
       "  <thead>\n",
       "    <tr style=\"text-align: right;\">\n",
       "      <th></th>\n",
       "      <th>ID</th>\n",
       "      <th>포인트_적립포인트_R3M</th>\n",
       "      <th>포인트_이용포인트_R3M</th>\n",
       "      <th>포인트_잔여포인트_B0M</th>\n",
       "      <th>계산된잔여포인트</th>\n",
       "      <th>잔여오차</th>\n",
       "    </tr>\n",
       "  </thead>\n",
       "  <tbody>\n",
       "    <tr>\n",
       "      <th>0</th>\n",
       "      <td>TRAIN_000000</td>\n",
       "      <td>1827</td>\n",
       "      <td>1296</td>\n",
       "      <td>0</td>\n",
       "      <td>531</td>\n",
       "      <td>531</td>\n",
       "    </tr>\n",
       "    <tr>\n",
       "      <th>1</th>\n",
       "      <td>TRAIN_000001</td>\n",
       "      <td>0</td>\n",
       "      <td>0</td>\n",
       "      <td>0</td>\n",
       "      <td>0</td>\n",
       "      <td>0</td>\n",
       "    </tr>\n",
       "    <tr>\n",
       "      <th>2</th>\n",
       "      <td>TRAIN_000002</td>\n",
       "      <td>5153</td>\n",
       "      <td>2765</td>\n",
       "      <td>0</td>\n",
       "      <td>2388</td>\n",
       "      <td>2388</td>\n",
       "    </tr>\n",
       "    <tr>\n",
       "      <th>3</th>\n",
       "      <td>TRAIN_000003</td>\n",
       "      <td>2523</td>\n",
       "      <td>2467</td>\n",
       "      <td>0</td>\n",
       "      <td>56</td>\n",
       "      <td>56</td>\n",
       "    </tr>\n",
       "    <tr>\n",
       "      <th>4</th>\n",
       "      <td>TRAIN_000004</td>\n",
       "      <td>0</td>\n",
       "      <td>0</td>\n",
       "      <td>0</td>\n",
       "      <td>0</td>\n",
       "      <td>0</td>\n",
       "    </tr>\n",
       "  </tbody>\n",
       "</table>\n",
       "</div>"
      ],
      "text/plain": [
       "             ID  포인트_적립포인트_R3M  포인트_이용포인트_R3M  포인트_잔여포인트_B0M  계산된잔여포인트  잔여오차\n",
       "0  TRAIN_000000           1827           1296              0       531   531\n",
       "1  TRAIN_000001              0              0              0         0     0\n",
       "2  TRAIN_000002           5153           2765              0      2388  2388\n",
       "3  TRAIN_000003           2523           2467              0        56    56\n",
       "4  TRAIN_000004              0              0              0         0     0"
      ]
     },
     "execution_count": 105,
     "metadata": {},
     "output_type": "execute_result"
    }
   ],
   "source": [
    "# 복사본 만들기\n",
    "df_point_check = df_copy.copy()\n",
    "\n",
    "# 계산된 잔여포인트 = 적립 - 사용\n",
    "df_point_check['계산된잔여포인트'] = (\n",
    "    df_point_check['포인트_적립포인트_R3M'] - df_point_check['포인트_이용포인트_R3M']\n",
    ")\n",
    "\n",
    "# 오차 = 계산된 잔여 - 실제 잔여\n",
    "df_point_check['잔여오차'] = (\n",
    "    df_point_check['계산된잔여포인트'] - df_point_check['포인트_잔여포인트_B0M']\n",
    ")\n",
    "\n",
    "# 통계 확인\n",
    "print(df_point_check['잔여오차'].describe())\n",
    "\n",
    "# 정확히 일치하는 비율 (%)\n",
    "exact_match = (df_point_check['잔여오차'] == 0).mean() * 100\n",
    "print(f\"계산된 잔여포인트가 실제값과 정확히 일치하는 비율: {exact_match:.2f}%\")\n",
    "\n",
    "# 일부 샘플 확인\n",
    "df_point_check[['ID', '포인트_적립포인트_R3M', '포인트_이용포인트_R3M', \n",
    "                '포인트_잔여포인트_B0M', '계산된잔여포인트', '잔여오차']].head()\n"
   ]
  },
  {
   "cell_type": "markdown",
   "id": "49047972-5b4b-456a-8d10-dc1b03bc04db",
   "metadata": {},
   "source": [
    "1. 정확히 일치하는 고객 비율\n",
    "77.13%의 고객은 적립 - 사용 = 잔여가 정확히 일치함\n",
    "\n",
    "→ 이들은 최근 3개월(R3M) 데이터만으로도 포인트 흐름이 정확하게 파악 가능\n",
    "\n",
    "나머지 약 23%는 차이가 있음 → 이전 적립/사용 이력이 존재하거나 데이터 누락 가능성\n",
    "\n",
    "✅ 2. 잔여오차 통계\n",
    "평균 오차: -669점\n",
    "\n",
    "→ 실제 잔여포인트가 계산된 값보다 평균적으로 669점 더 적음\n",
    "\n",
    "최소값: -123,549\n",
    "\n",
    "→ 굉장히 많은 차이를 보이는 사례도 있음 (ex: 과거에 많이 썼거나 오류 가능성)\n",
    "\n",
    "최대값: 11,861\n",
    "\n",
    "→ 반대로 계산보다 실제 잔여가 더 많은 경우도 존재\n",
    "\n",
    "1년으로 새로 그래프 그려보기"
   ]
  },
  {
   "cell_type": "markdown",
   "id": "b37b25f7-1229-4ba7-a010-9071973f9f26",
   "metadata": {},
   "source": [
    "## Segment별 1년 기준 포인트 적립 vs 사용 평균 비교"
   ]
  },
  {
   "cell_type": "code",
   "execution_count": 117,
   "id": "cc79d4dd-cd02-4ec6-88e8-76f006d015f7",
   "metadata": {},
   "outputs": [
    {
     "name": "stderr",
     "output_type": "stream",
     "text": [
      "C:\\Users\\jun09\\AppData\\Local\\Temp\\ipykernel_19116\\2740389735.py:10: FutureWarning: \n",
      "\n",
      "The `ci` parameter is deprecated. Use `errorbar=None` for the same effect.\n",
      "\n",
      "  sns.barplot(\n",
      "C:\\Users\\jun09\\AppData\\Local\\Temp\\ipykernel_19116\\2740389735.py:19: FutureWarning: \n",
      "\n",
      "The `ci` parameter is deprecated. Use `errorbar=None` for the same effect.\n",
      "\n",
      "  sns.barplot(\n"
     ]
    },
    {
     "data": {
      "image/png": "[encoded data removed]",
      "text/plain": [
       "<Figure size 1000x600 with 1 Axes>"
      ]
     },
     "metadata": {},
     "output_type": "display_data"
    }
   ],
   "source": [
    "# 적립/사용 컬럼명\n",
    "point_earn_12m = '포인트_적립포인트_R12M'\n",
    "point_use_12m = '포인트_이용포인트_R12M'\n",
    "\n",
    "# 유효한 값 필터링 (0보다 크거나 같은 값)\n",
    "df_valid = df_copy[(df_copy[point_earn_12m] > 0) | (df_copy[point_use_12m] > 0)]\n",
    "\n",
    "# 그래프 그리기\n",
    "plt.figure(figsize=(10, 6))\n",
    "sns.barplot(\n",
    "    data=df_valid,\n",
    "    x='Segment',\n",
    "    y=point_use_12m,\n",
    "    estimator='mean',\n",
    "    ci=None,\n",
    "    color='skyblue',\n",
    "    label='평균 사용 포인트'\n",
    ")\n",
    "sns.barplot(\n",
    "    data=df_valid,\n",
    "    x='Segment',\n",
    "    y=point_earn_12m,\n",
    "    estimator='mean',\n",
    "    ci=None,\n",
    "    color='lightgray',\n",
    "    alpha=0.7,\n",
    "    label='평균 적립 포인트'\n",
    ")\n",
    "\n",
    "plt.title(\"Segment별 1년 기준 평균 포인트 적립 vs 사용\")\n",
    "plt.ylabel(\"포인트\")\n",
    "plt.legend()\n",
    "plt.show()"
   ]
  },
  {
   "cell_type": "markdown",
   "id": "d2f74216-562a-4418-ab39-eba5c86bfe6b",
   "metadata": {},
   "source": [
    "📌 1. 포인트는 이전부터 누적되어 있을 수 있어\n",
    "포인트_이용포인트_R12M은 최근 1년간 사용한 포인트고\n",
    "\n",
    "포인트_적립포인트_R12M은 최근 1년간 새로 적립된 포인트야.\n",
    "\n",
    "✅ 이전 연도까지 적립해 둔 포인트를 올해 다 쓸 수도 있지.\n",
    "즉, “이전 잔여포인트 + 올해 적립” > 올해 사용도 가능함.\n",
    "\n",
    "📌 2. 잔여 포인트가 음수인 이상치가 존재함\n",
    "너가 올린 스크린샷 보면 잔여오차의 최솟값이 -12,000포인트 이상이야.\n",
    "→ 이는 계산된잔여포인트 = 적립 - 사용 공식으로 계산했을 때 실제 잔여보다 훨씬 많이 썼다는 의미로,\n",
    "입력 오류나 누락(예: 소멸, 전환 등) 이 있었을 가능성이 있음.\n",
    "\n",
    "📌 3. 극단적으로 많이 쓴 소수 고객이 평균을 왜곡할 수 있음\n",
    "일부 세그먼트(B, C 등)는 사용 포인트의 표준편차가 매우 클 가능성 있음.\n",
    "\n",
    "평균이 아닌 중앙값(median) 기준으로 보면 차이가 줄어들 수도 있어.\n",
    "\n",
    "✅ 해결 방법 제안\n",
    "사용률 계산: 사용 / 적립 비율 계산 후 이상치 제거하고 평균 비교\n",
    "\n",
    "중앙값 사용: 평균이 아닌 median 기준으로 다시 barplot\n",
    "\n",
    "잔여포인트 포함 분석: 잔여포인트_B0M을 포함한 \"전체 포인트 흐름\" 분석\n",
    "\n"
   ]
  },
  {
   "cell_type": "code",
   "execution_count": null,
   "id": "510f3556-22eb-4e47-8e6c-cb3b1407640f",
   "metadata": {},
   "outputs": [],
   "source": []
  },
  {
   "cell_type": "code",
   "execution_count": null,
   "id": "a12326f6-1606-451f-b534-f6664aacbdc7",
   "metadata": {},
   "outputs": [],
   "source": []
  },
  {
   "cell_type": "code",
   "execution_count": null,
   "id": "835e8852-942f-43c3-ac70-bdb3acb1dc13",
   "metadata": {},
   "outputs": [],
   "source": []
  },
  {
   "cell_type": "code",
   "execution_count": null,
   "id": "7bd8cd50-951f-4bbf-867e-97d0ae41a032",
   "metadata": {},
   "outputs": [],
   "source": []
  },
  {
   "cell_type": "code",
   "execution_count": null,
   "id": "9b8e0cb1-ffbb-4da5-8399-bc4298685f3a",
   "metadata": {},
   "outputs": [],
   "source": []
  },
  {
   "cell_type": "code",
   "execution_count": null,
   "id": "788ffde0-ae70-4049-85cf-c3f214e2a01a",
   "metadata": {},
   "outputs": [],
   "source": []
  }
 ],
 "metadata": {
  "kernelspec": {
   "display_name": "Python [conda env:base] *",
   "language": "python",
   "name": "conda-base-py"
  },
  "language_info": {
   "codemirror_mode": {
    "name": "ipython",
    "version": 3
   },
   "file_extension": ".py",
   "mimetype": "text/x-python",
   "name": "python",
   "nbconvert_exporter": "python",
   "pygments_lexer": "ipython3",
   "version": "3.12.7"
  }
 },
 "nbformat": 4,
 "nbformat_minor": 5
}
